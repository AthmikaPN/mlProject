{
 "cells": [
  {
   "cell_type": "code",
   "execution_count": 30,
   "metadata": {},
   "outputs": [],
   "source": [
    "from nltk.corpus import stopwords\n",
    "from nltk.cluster.util import cosine_distance\n",
    "import numpy as np\n",
    "import networkx as nx"
   ]
  },
  {
   "cell_type": "code",
   "execution_count": 51,
   "metadata": {},
   "outputs": [],
   "source": [
    "def read_article(file_name):\n",
    "    file = open(file_name, \"r\")\n",
    "    filedata = file.readlines()\n",
    "    print(\"Content of input text file is:\\n\",filedata)\n",
    "    article = filedata[0].split(\". \")\n",
    "    print(\"\\nAfter converting input text file into list:\\n\",article )\n",
    "    sentences = []\n",
    "    for sentence in article:\n",
    "        sentences.append(sentence.replace(\"[a-zA-Z]\", \" \").split(\" \"))\n",
    "    sentences.pop() \n",
    "    return sentences"
   ]
  },
  {
   "cell_type": "code",
   "execution_count": 52,
   "metadata": {},
   "outputs": [],
   "source": [
    "def sentence_similarity(sent1, sent2, stopwords=None):\n",
    "    if stopwords is None:\n",
    "        stopwords = []\n",
    " \n",
    "    sent1 = [w.lower() for w in sent1]\n",
    "    sent2 = [w.lower() for w in sent2]\n",
    " \n",
    "    all_words = list(set(sent1 + sent2))\n",
    " \n",
    "    vector1 = [0] * len(all_words)\n",
    "    vector2 = [0] * len(all_words)\n",
    " \n",
    "    for w in sent1:\n",
    "        if w in stopwords:\n",
    "            continue\n",
    "        vector1[all_words.index(w)] += 1\n",
    " \n",
    "\n",
    "    for w in sent2:\n",
    "        if w in stopwords:\n",
    "            continue\n",
    "        vector2[all_words.index(w)] += 1\n",
    " \n",
    "    return 1 - cosine_distance(vector1, vector2)\n",
    " \n",
    "def build_similarity_matrix(sentences, stop_words):\n",
    "    similarity_matrix = np.zeros((len(sentences), len(sentences)))\n",
    "    for idx1 in range(len(sentences)):\n",
    "        for idx2 in range(len(sentences)):\n",
    "            if idx1 == idx2:\n",
    "                continue \n",
    "            similarity_matrix[idx1][idx2] = sentence_similarity(sentences[idx1], sentences[idx2], stop_words)\n",
    "\n",
    "    return similarity_matrix\n",
    "\n",
    "\n",
    "def generate_summary(file_name, top_n=5):\n",
    "    stop_words = stopwords.words('english')\n",
    "    summarize_text = []\n",
    "\n",
    "   \n",
    "    sentences =  read_article(file_name)\n",
    "    print(\"\\n Sentences:\\n\",sentences)\n",
    "\n",
    "  \n",
    "    sentence_similarity_martix = build_similarity_matrix(sentences, stop_words)\n",
    "\n",
    "    \n",
    "    sentence_similarity_graph = nx.from_numpy_array(sentence_similarity_martix)\n",
    "    scores = nx.pagerank(sentence_similarity_graph)\n",
    "\n",
    "    \n",
    "    ranked_sentence = sorted(((scores[i],s) for i,s in enumerate(sentences)), reverse=True)    \n",
    "    print(\"\\n Indexes of top ranked_sentence order are :\\n\", ranked_sentence)    \n",
    "\n",
    "    for i in range(top_n):\n",
    "        summarize_text.append(\" \".join(ranked_sentence[i][1]))\n",
    "\n",
    "    \n",
    "    print(\"\\n Summarize Text:\\n\", \". \".join(summarize_text))"
   ]
  },
  {
   "cell_type": "code",
   "execution_count": 53,
   "metadata": {},
   "outputs": [
    {
     "name": "stdout",
     "output_type": "stream",
     "text": [
      "Content of input text file is:\n",
      " [\"Microsoft is celebrating bumper sales of its Xbox sci-fi shooter, Halo 2. The game has sold more than five million copies worldwide since it went on sale in mid-November, the company said. Halo 2 has proved popular online, with gamers notching up a record 28 million hours playing the game on Xbox Live. According to Microsoft, nine out of 10 Xbox Live members have played the game for an average of 91 minutes per session.The sequel to the best-selling Need for Speed: Underground has inched ahead of the competition to take the top slot in the official UK games charts. The racing game moved up one spot to first place, nudging GTA: San Andreas down to second place. Halo 2 dropped one place to five, while Half-Life 2 fell to number nine. Last week's new releases, GoldenEye: Rogue Agent and Killzone, both failed to make it into the top 10, debuting at number 11 and 12 respectively.Record numbers of Warcraft fans are settling in the games online world. On the opening day of the World of Warcraft massive multi-player online game more than 200,000 players signed up to play. On the evening of the first day more than 100,000 players were in the world, forcing Blizzard to add another 34 servers to cope with the influx. The online game turns the stand alone Warcraft games into a persistent world that players can inhabit not just visit.Europe's gamers could be waiting until January to hear when they can get their mitts on Nintendo's handheld device, Nintendo DS, says gamesindustry.biz. David Yarnton, Nintendo UK general manager, told a press conference to look out for details in the New Year. Its US launch was on Sunday and it goes on sale in Japan on 2 December. Nintendo has a 95% share of the handheld gaming market and said it expected to sell around five million of the DS by March 2005.\\n\"]\n",
      "\n",
      "After converting input text file into list:\n",
      " ['Microsoft is celebrating bumper sales of its Xbox sci-fi shooter, Halo 2', 'The game has sold more than five million copies worldwide since it went on sale in mid-November, the company said', 'Halo 2 has proved popular online, with gamers notching up a record 28 million hours playing the game on Xbox Live', 'According to Microsoft, nine out of 10 Xbox Live members have played the game for an average of 91 minutes per session.The sequel to the best-selling Need for Speed: Underground has inched ahead of the competition to take the top slot in the official UK games charts', 'The racing game moved up one spot to first place, nudging GTA: San Andreas down to second place', 'Halo 2 dropped one place to five, while Half-Life 2 fell to number nine', \"Last week's new releases, GoldenEye: Rogue Agent and Killzone, both failed to make it into the top 10, debuting at number 11 and 12 respectively.Record numbers of Warcraft fans are settling in the games online world\", 'On the opening day of the World of Warcraft massive multi-player online game more than 200,000 players signed up to play', 'On the evening of the first day more than 100,000 players were in the world, forcing Blizzard to add another 34 servers to cope with the influx', \"The online game turns the stand alone Warcraft games into a persistent world that players can inhabit not just visit.Europe's gamers could be waiting until January to hear when they can get their mitts on Nintendo's handheld device, Nintendo DS, says gamesindustry.biz\", 'David Yarnton, Nintendo UK general manager, told a press conference to look out for details in the New Year', 'Its US launch was on Sunday and it goes on sale in Japan on 2 December', 'Nintendo has a 95% share of the handheld gaming market and said it expected to sell around five million of the DS by March 2005.\\n']\n",
      "\n",
      " Sentences:\n",
      " [['Microsoft', 'is', 'celebrating', 'bumper', 'sales', 'of', 'its', 'Xbox', 'sci-fi', 'shooter,', 'Halo', '2'], ['The', 'game', 'has', 'sold', 'more', 'than', 'five', 'million', 'copies', 'worldwide', 'since', 'it', 'went', 'on', 'sale', 'in', 'mid-November,', 'the', 'company', 'said'], ['Halo', '2', 'has', 'proved', 'popular', 'online,', 'with', 'gamers', 'notching', 'up', 'a', 'record', '28', 'million', 'hours', 'playing', 'the', 'game', 'on', 'Xbox', 'Live'], ['According', 'to', 'Microsoft,', 'nine', 'out', 'of', '10', 'Xbox', 'Live', 'members', 'have', 'played', 'the', 'game', 'for', 'an', 'average', 'of', '91', 'minutes', 'per', 'session.The', 'sequel', 'to', 'the', 'best-selling', 'Need', 'for', 'Speed:', 'Underground', 'has', 'inched', 'ahead', 'of', 'the', 'competition', 'to', 'take', 'the', 'top', 'slot', 'in', 'the', 'official', 'UK', 'games', 'charts'], ['The', 'racing', 'game', 'moved', 'up', 'one', 'spot', 'to', 'first', 'place,', 'nudging', 'GTA:', 'San', 'Andreas', 'down', 'to', 'second', 'place'], ['Halo', '2', 'dropped', 'one', 'place', 'to', 'five,', 'while', 'Half-Life', '2', 'fell', 'to', 'number', 'nine'], ['Last', \"week's\", 'new', 'releases,', 'GoldenEye:', 'Rogue', 'Agent', 'and', 'Killzone,', 'both', 'failed', 'to', 'make', 'it', 'into', 'the', 'top', '10,', 'debuting', 'at', 'number', '11', 'and', '12', 'respectively.Record', 'numbers', 'of', 'Warcraft', 'fans', 'are', 'settling', 'in', 'the', 'games', 'online', 'world'], ['On', 'the', 'opening', 'day', 'of', 'the', 'World', 'of', 'Warcraft', 'massive', 'multi-player', 'online', 'game', 'more', 'than', '200,000', 'players', 'signed', 'up', 'to', 'play'], ['On', 'the', 'evening', 'of', 'the', 'first', 'day', 'more', 'than', '100,000', 'players', 'were', 'in', 'the', 'world,', 'forcing', 'Blizzard', 'to', 'add', 'another', '34', 'servers', 'to', 'cope', 'with', 'the', 'influx'], ['The', 'online', 'game', 'turns', 'the', 'stand', 'alone', 'Warcraft', 'games', 'into', 'a', 'persistent', 'world', 'that', 'players', 'can', 'inhabit', 'not', 'just', \"visit.Europe's\", 'gamers', 'could', 'be', 'waiting', 'until', 'January', 'to', 'hear', 'when', 'they', 'can', 'get', 'their', 'mitts', 'on', \"Nintendo's\", 'handheld', 'device,', 'Nintendo', 'DS,', 'says', 'gamesindustry.biz'], ['David', 'Yarnton,', 'Nintendo', 'UK', 'general', 'manager,', 'told', 'a', 'press', 'conference', 'to', 'look', 'out', 'for', 'details', 'in', 'the', 'New', 'Year'], ['Its', 'US', 'launch', 'was', 'on', 'Sunday', 'and', 'it', 'goes', 'on', 'sale', 'in', 'Japan', 'on', '2', 'December']]\n",
      "\n",
      " Indexes of top ranked_sentence order are :\n",
      " [(0.13176019586177232, ['Halo', '2', 'has', 'proved', 'popular', 'online,', 'with', 'gamers', 'notching', 'up', 'a', 'record', '28', 'million', 'hours', 'playing', 'the', 'game', 'on', 'Xbox', 'Live']), (0.11743147437809626, ['On', 'the', 'opening', 'day', 'of', 'the', 'World', 'of', 'Warcraft', 'massive', 'multi-player', 'online', 'game', 'more', 'than', '200,000', 'players', 'signed', 'up', 'to', 'play']), (0.11433542804336363, ['Halo', '2', 'dropped', 'one', 'place', 'to', 'five,', 'while', 'Half-Life', '2', 'fell', 'to', 'number', 'nine']), (0.10947344673819533, ['The', 'online', 'game', 'turns', 'the', 'stand', 'alone', 'Warcraft', 'games', 'into', 'a', 'persistent', 'world', 'that', 'players', 'can', 'inhabit', 'not', 'just', \"visit.Europe's\", 'gamers', 'could', 'be', 'waiting', 'until', 'January', 'to', 'hear', 'when', 'they', 'can', 'get', 'their', 'mitts', 'on', \"Nintendo's\", 'handheld', 'device,', 'Nintendo', 'DS,', 'says', 'gamesindustry.biz']), (0.08696823286561849, ['Microsoft', 'is', 'celebrating', 'bumper', 'sales', 'of', 'its', 'Xbox', 'sci-fi', 'shooter,', 'Halo', '2']), (0.08197249214405669, ['According', 'to', 'Microsoft,', 'nine', 'out', 'of', '10', 'Xbox', 'Live', 'members', 'have', 'played', 'the', 'game', 'for', 'an', 'average', 'of', '91', 'minutes', 'per', 'session.The', 'sequel', 'to', 'the', 'best-selling', 'Need', 'for', 'Speed:', 'Underground', 'has', 'inched', 'ahead', 'of', 'the', 'competition', 'to', 'take', 'the', 'top', 'slot', 'in', 'the', 'official', 'UK', 'games', 'charts']), (0.07500698832565311, ['The', 'racing', 'game', 'moved', 'up', 'one', 'spot', 'to', 'first', 'place,', 'nudging', 'GTA:', 'San', 'Andreas', 'down', 'to', 'second', 'place']), (0.07339855076253746, ['Last', \"week's\", 'new', 'releases,', 'GoldenEye:', 'Rogue', 'Agent', 'and', 'Killzone,', 'both', 'failed', 'to', 'make', 'it', 'into', 'the', 'top', '10,', 'debuting', 'at', 'number', '11', 'and', '12', 'respectively.Record', 'numbers', 'of', 'Warcraft', 'fans', 'are', 'settling', 'in', 'the', 'games', 'online', 'world']), (0.06938766560349342, ['The', 'game', 'has', 'sold', 'more', 'than', 'five', 'million', 'copies', 'worldwide', 'since', 'it', 'went', 'on', 'sale', 'in', 'mid-November,', 'the', 'company', 'said']), (0.06546243581201279, ['Its', 'US', 'launch', 'was', 'on', 'Sunday', 'and', 'it', 'goes', 'on', 'sale', 'in', 'Japan', 'on', '2', 'December']), (0.043701955961468246, ['On', 'the', 'evening', 'of', 'the', 'first', 'day', 'more', 'than', '100,000', 'players', 'were', 'in', 'the', 'world,', 'forcing', 'Blizzard', 'to', 'add', 'another', '34', 'servers', 'to', 'cope', 'with', 'the', 'influx']), (0.031101133503732014, ['David', 'Yarnton,', 'Nintendo', 'UK', 'general', 'manager,', 'told', 'a', 'press', 'conference', 'to', 'look', 'out', 'for', 'details', 'in', 'the', 'New', 'Year'])]\n",
      "\n",
      " Summarize Text:\n",
      " Halo 2 has proved popular online, with gamers notching up a record 28 million hours playing the game on Xbox Live. On the opening day of the World of Warcraft massive multi-player online game more than 200,000 players signed up to play\n"
     ]
    }
   ],
   "source": [
    "generate_summary(\"160.txt\",2)"
   ]
  },
  {
   "cell_type": "code",
   "execution_count": null,
   "metadata": {},
   "outputs": [],
   "source": []
  },
  {
   "cell_type": "code",
   "execution_count": null,
   "metadata": {},
   "outputs": [],
   "source": []
  },
  {
   "cell_type": "code",
   "execution_count": null,
   "metadata": {},
   "outputs": [],
   "source": []
  }
 ],
 "metadata": {
  "kernelspec": {
   "display_name": "Python 3",
   "language": "python",
   "name": "python3"
  },
  "language_info": {
   "codemirror_mode": {
    "name": "ipython",
    "version": 3
   },
   "file_extension": ".py",
   "mimetype": "text/x-python",
   "name": "python",
   "nbconvert_exporter": "python",
   "pygments_lexer": "ipython3",
   "version": "3.7.1"
  }
 },
 "nbformat": 4,
 "nbformat_minor": 2
}
